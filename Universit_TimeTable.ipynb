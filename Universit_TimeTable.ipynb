{
  "nbformat": 4,
  "nbformat_minor": 0,
  "metadata": {
    "colab": {
      "provenance": []
    },
    "kernelspec": {
      "name": "python3",
      "display_name": "Python 3"
    },
    "language_info": {
      "name": "python"
    }
  },
  "cells": [
    {
      "cell_type": "code",
      "source": [
        "import csv\n",
        "import random\n",
        "\n",
        "# Function to generate sample course data\n",
        "def generate_course_data(num_courses):\n",
        "    courses = []\n",
        "    for i in range(num_courses):\n",
        "        course_code = f\"COURSE{i+1}\"\n",
        "        course_name = f\"Course {i+1}\"\n",
        "        faculty = f\"Faculty {random.randint(1, 5)}\"\n",
        "        timeslots = \",\".join([str(random.randint(8, 17)) for _ in range(3)])  # Sample timeslots\n",
        "        courses.append([course_code, course_name, faculty, timeslots])\n",
        "    return courses\n",
        "\n",
        "# Function to generate sample classroom data\n",
        "def generate_classroom_data(num_classrooms):\n",
        "    classrooms = []\n",
        "    for i in range(num_classrooms):\n",
        "        classroom_code = f\"CLASSROOM{i+1}\"\n",
        "        capacity = random.randint(20, 50)  # Sample capacity\n",
        "        classrooms.append([classroom_code, capacity])\n",
        "    return classrooms\n",
        "\n",
        "# Function to generate sample student data\n",
        "def generate_student_data(num_students, num_courses):\n",
        "    students = []\n",
        "    for i in range(num_students):\n",
        "        student_id = f\"STUDENT{i+1}\"\n",
        "        # Decide probability of taking a course (adjust probability as needed)\n",
        "        take_course_probability = 0.7\n",
        "        courses_enrolled = []\n",
        "        for course_id in range(1, num_courses + 1):\n",
        "            if random.random() < take_course_probability:\n",
        "                courses_enrolled.append(f\"COURSE{course_id}\")\n",
        "        students.append([student_id, \",\".join(courses_enrolled)])\n",
        "    return students\n",
        "\n",
        "# Function to generate sample faculty data\n",
        "def generate_faculty_data(num_faculty):\n",
        "    faculty = []\n",
        "    for i in range(num_faculty):\n",
        "        faculty_id = f\"FACULTY{i+1}\"\n",
        "        faculty_name = f\"Faculty {i+1}\"\n",
        "        availability = \",\".join([str(random.randint(8, 17)) for _ in range(3)])  # Sample availability\n",
        "        faculty.append([faculty_id, faculty_name, availability])\n",
        "    return faculty\n",
        "\n",
        "# Function to generate sample constraints data\n",
        "def generate_constraints_data(num_constraints, num_courses, num_faculty):\n",
        "    constraints = []\n",
        "    for i in range(num_constraints):\n",
        "        course_code = f\"COURSE{random.randint(1, num_courses)}\"\n",
        "        faculty_id = f\"FACULTY{random.randint(1, num_faculty)}\"\n",
        "        constraints.append([course_code, faculty_id])\n",
        "    return constraints\n",
        "\n",
        "# Function to write data to CSV file\n",
        "def write_to_csv(file_path, data, header):\n",
        "    with open(file_path, 'w', newline='') as file:\n",
        "        writer = csv.writer(file)\n",
        "        writer.writerow(header)\n",
        "        writer.writerows(data)\n",
        "\n",
        "# Generate sample data\n",
        "num_courses = 35\n",
        "num_classrooms = 10\n",
        "num_students = 300\n",
        "num_faculty = 5\n",
        "num_constraints = 10\n",
        "\n",
        "courses_data = generate_course_data(num_courses)\n",
        "classrooms_data = generate_classroom_data(num_classrooms)\n",
        "students_data = generate_student_data(num_students, num_courses)\n",
        "faculty_data = generate_faculty_data(num_faculty)\n",
        "constraints_data = generate_constraints_data(num_constraints, num_courses, num_faculty)\n",
        "\n",
        "# Write data to CSV files\n",
        "write_to_csv('courses.csv', courses_data, ['Course Code', 'Course Name', 'Faculty', 'Timeslots'])\n",
        "write_to_csv('classrooms.csv', classrooms_data, ['Classroom Code', 'Capacity'])\n",
        "write_to_csv('students.csv', students_data, ['Student ID', 'Courses Enrolled'])\n",
        "write_to_csv('faculty.csv', faculty_data, ['Faculty ID', 'Faculty Name', 'Availability'])\n",
        "write_to_csv('constraints.csv', constraints_data, ['Course Code', 'Faculty ID'])\n",
        "\n",
        "print(\"CSV files generated successfully!\")\n"
      ],
      "metadata": {
        "colab": {
          "base_uri": "https://localhost:8080/"
        },
        "id": "YX19ycvg32RQ",
        "outputId": "7ac15ee5-1d46-4f4b-caf7-318f50d67482"
      },
      "execution_count": null,
      "outputs": [
        {
          "output_type": "stream",
          "name": "stdout",
          "text": [
            "CSV files generated successfully!\n"
          ]
        }
      ]
    },
    {
      "cell_type": "code",
      "source": [
        "import csv\n",
        "\n",
        "# Function to load data from CSV file\n",
        "def load_data_from_csv(file_path):\n",
        "    data = []\n",
        "    with open(file_path, 'r') as file:\n",
        "        reader = csv.reader(file)\n",
        "        next(reader)  # Skip header\n",
        "        for row in reader:\n",
        "            data.append(row)\n",
        "    return data\n",
        "\n",
        "# Load data from CSV files\n",
        "courses_data = load_data_from_csv('courses.csv')\n",
        "classrooms_data = load_data_from_csv('classrooms.csv')\n",
        "students_data = load_data_from_csv('students.csv')\n",
        "faculty_data = load_data_from_csv('faculty.csv')\n",
        "constraints_data = load_data_from_csv('constraints.csv')\n",
        "\n",
        "# Display a sample of loaded data\n",
        "print(\"Sample of loaded data:\")\n",
        "print(\"Courses:\", courses_data[:5])\n",
        "print(\"Classrooms:\", classrooms_data[:5])\n",
        "print(\"Students:\", students_data[:5])\n",
        "print(\"Faculty:\", faculty_data[:5])\n",
        "print(\"Constraints:\", constraints_data[:5])\n"
      ],
      "metadata": {
        "colab": {
          "base_uri": "https://localhost:8080/"
        },
        "id": "tPNoXVoZ33ij",
        "outputId": "f0562c2d-6c36-42ea-afd2-67ac5f498d76"
      },
      "execution_count": null,
      "outputs": [
        {
          "output_type": "stream",
          "name": "stdout",
          "text": [
            "Sample of loaded data:\n",
            "Courses: [['COURSE1', 'Course 1', 'Faculty 2', '8,17,8'], ['COURSE2', 'Course 2', 'Faculty 4', '8,10,12'], ['COURSE3', 'Course 3', 'Faculty 3', '17,11,15'], ['COURSE4', 'Course 4', 'Faculty 1', '16,13,11'], ['COURSE5', 'Course 5', 'Faculty 2', '15,15,16']]\n",
            "Classrooms: [['CLASSROOM1', '31'], ['CLASSROOM2', '21'], ['CLASSROOM3', '25'], ['CLASSROOM4', '34'], ['CLASSROOM5', '47']]\n",
            "Students: [['STUDENT1', 'COURSE1,COURSE2,COURSE5,COURSE6,COURSE7,COURSE8,COURSE12,COURSE14,COURSE15,COURSE16,COURSE18,COURSE19,COURSE20,COURSE21,COURSE23,COURSE24,COURSE25,COURSE26,COURSE27,COURSE29,COURSE30,COURSE31,COURSE32,COURSE34,COURSE35'], ['STUDENT2', 'COURSE1,COURSE2,COURSE3,COURSE5,COURSE6,COURSE8,COURSE10,COURSE11,COURSE13,COURSE14,COURSE15,COURSE18,COURSE19,COURSE20,COURSE22,COURSE23,COURSE26,COURSE27,COURSE28,COURSE29,COURSE30,COURSE31,COURSE32,COURSE35'], ['STUDENT3', 'COURSE1,COURSE2,COURSE3,COURSE4,COURSE5,COURSE6,COURSE8,COURSE9,COURSE10,COURSE11,COURSE14,COURSE15,COURSE16,COURSE17,COURSE19,COURSE21,COURSE23,COURSE26,COURSE28,COURSE29,COURSE30,COURSE31,COURSE32,COURSE33,COURSE34'], ['STUDENT4', 'COURSE2,COURSE3,COURSE4,COURSE6,COURSE7,COURSE8,COURSE9,COURSE10,COURSE11,COURSE13,COURSE14,COURSE17,COURSE18,COURSE19,COURSE21,COURSE22,COURSE23,COURSE24,COURSE25,COURSE26,COURSE28,COURSE29,COURSE31,COURSE32,COURSE34,COURSE35'], ['STUDENT5', 'COURSE1,COURSE3,COURSE4,COURSE5,COURSE6,COURSE7,COURSE11,COURSE12,COURSE13,COURSE14,COURSE15,COURSE16,COURSE17,COURSE18,COURSE19,COURSE20,COURSE21,COURSE22,COURSE23,COURSE24,COURSE25,COURSE26,COURSE27,COURSE28,COURSE29,COURSE30,COURSE31,COURSE32,COURSE34,COURSE35']]\n",
            "Faculty: [['FACULTY1', 'Faculty 1', '17,17,11'], ['FACULTY2', 'Faculty 2', '9,15,10'], ['FACULTY3', 'Faculty 3', '17,11,13'], ['FACULTY4', 'Faculty 4', '10,12,8'], ['FACULTY5', 'Faculty 5', '9,13,17']]\n",
            "Constraints: [['COURSE17', 'FACULTY4'], ['COURSE7', 'FACULTY5'], ['COURSE13', 'FACULTY4'], ['COURSE7', 'FACULTY1'], ['COURSE35', 'FACULTY3']]\n"
          ]
        }
      ]
    },
    {
      "cell_type": "code",
      "source": [
        "import random\n",
        "\n",
        "def initialize_population(num_timetables, num_courses, num_classrooms, num_students, num_faculty):\n",
        "    population = []\n",
        "    for _ in range(num_timetables):\n",
        "        timetable = {\n",
        "            'courses': random.sample(courses_data, num_courses),\n",
        "            'classrooms': random.sample(classrooms_data, num_classrooms),\n",
        "            'students': random.sample(students_data, num_students),\n",
        "            'faculty': random.sample(faculty_data, num_faculty)\n",
        "        }\n",
        "        population.append(timetable)\n",
        "    return population\n",
        "\n",
        "# Example usage\n",
        "num_timetables = 50  # Number of timetables in the population\n",
        "num_courses = 10  # Number of courses per timetable\n",
        "num_classrooms = 5  # Number of classrooms per timetable\n",
        "num_students = 50  # Number of students per timetable\n",
        "num_faculty = 5  # Number of faculty per timetable\n",
        "\n",
        "# Initialize the population\n",
        "population = initialize_population(num_timetables, num_courses, num_classrooms, num_students, num_faculty)\n"
      ],
      "metadata": {
        "id": "4etBvBJF4Yr5"
      },
      "execution_count": null,
      "outputs": []
    },
    {
      "cell_type": "code",
      "source": [
        "def fitness_function(timetable):\n",
        "    fitness = 0\n",
        "    # Example: Penalize timetables with conflicts\n",
        "    if has_conflict(timetable):\n",
        "        fitness -= 1000  # Penalize heavily for conflicts\n",
        "\n",
        "    # Example: Calculate utilization metrics\n",
        "    classroom_utilization = calculate_classroom_utilization(timetable)\n",
        "    faculty_workload = calculate_faculty_workload(timetable)\n",
        "    # Add utilization metrics to fitness\n",
        "    fitness += classroom_utilization + faculty_workload\n",
        "\n",
        "    # Example: Consider specific objectives\n",
        "    # Add objectives specific to your scenario\n",
        "\n",
        "    return fitness\n",
        "\n",
        "# Example utility functions (replace with actual implementations)\n",
        "def has_conflict(timetable):\n",
        "    # Check for conflicts in the timetable\n",
        "    # Implement logic to detect conflicts\n",
        "    return False\n",
        "\n",
        "def calculate_classroom_utilization(timetable):\n",
        "    # Calculate classroom utilization metric\n",
        "    # Implement logic to calculate classroom utilization\n",
        "    return 0\n",
        "\n",
        "def calculate_faculty_workload(timetable):\n",
        "    # Calculate faculty workload metric\n",
        "    # Implement logic to calculate faculty workload\n",
        "    return 0\n",
        "\n",
        "# Example usage\n",
        "for timetable in population:\n",
        "    fitness_score = fitness_function(timetable)\n",
        "    print(\"Fitness Score:\", fitness_score)\n"
      ],
      "metadata": {
        "colab": {
          "base_uri": "https://localhost:8080/"
        },
        "id": "kMSvXCk74gPf",
        "outputId": "e8bce120-8859-4ee6-8476-78d54b31df79"
      },
      "execution_count": null,
      "outputs": [
        {
          "output_type": "stream",
          "name": "stdout",
          "text": [
            "Fitness Score: 0\n",
            "Fitness Score: 0\n",
            "Fitness Score: 0\n",
            "Fitness Score: 0\n",
            "Fitness Score: 0\n",
            "Fitness Score: 0\n",
            "Fitness Score: 0\n",
            "Fitness Score: 0\n",
            "Fitness Score: 0\n",
            "Fitness Score: 0\n",
            "Fitness Score: 0\n",
            "Fitness Score: 0\n",
            "Fitness Score: 0\n",
            "Fitness Score: 0\n",
            "Fitness Score: 0\n",
            "Fitness Score: 0\n",
            "Fitness Score: 0\n",
            "Fitness Score: 0\n",
            "Fitness Score: 0\n",
            "Fitness Score: 0\n",
            "Fitness Score: 0\n",
            "Fitness Score: 0\n",
            "Fitness Score: 0\n",
            "Fitness Score: 0\n",
            "Fitness Score: 0\n",
            "Fitness Score: 0\n",
            "Fitness Score: 0\n",
            "Fitness Score: 0\n",
            "Fitness Score: 0\n",
            "Fitness Score: 0\n",
            "Fitness Score: 0\n",
            "Fitness Score: 0\n",
            "Fitness Score: 0\n",
            "Fitness Score: 0\n",
            "Fitness Score: 0\n",
            "Fitness Score: 0\n",
            "Fitness Score: 0\n",
            "Fitness Score: 0\n",
            "Fitness Score: 0\n",
            "Fitness Score: 0\n",
            "Fitness Score: 0\n",
            "Fitness Score: 0\n",
            "Fitness Score: 0\n",
            "Fitness Score: 0\n",
            "Fitness Score: 0\n",
            "Fitness Score: 0\n",
            "Fitness Score: 0\n",
            "Fitness Score: 0\n",
            "Fitness Score: 0\n",
            "Fitness Score: 0\n"
          ]
        }
      ]
    },
    {
      "cell_type": "code",
      "source": [
        "def selection(population, fitness_scores, num_parents):\n",
        "    parents = []\n",
        "    total_fitness = sum(fitness_scores)\n",
        "    probabilities = [score / total_fitness for score in fitness_scores]\n",
        "\n",
        "    for _ in range(num_parents):\n",
        "        selected_individual = random.choices(population, probabilities)[0]\n",
        "        parents.append(selected_individual)\n",
        "\n",
        "    return parents\n",
        "\n",
        "# Assume population and fitness_scores are defined\n",
        "population = [...]  # List of timetables\n",
        "fitness_scores = [...]  # List of fitness scores corresponding to each timetable\n",
        "# Define the number of parents to select\n",
        "num_parents = 10\n",
        "# Example usage\n",
        "selected_parents = selection(population, fitness_scores, num_parents)\n",
        "\n",
        "# Example usage\n",
        "selected_parents = selection(population, fitness_scores, num_parents)\n"
      ],
      "metadata": {
        "colab": {
          "base_uri": "https://localhost:8080/",
          "height": 332
        },
        "id": "EpsyM9Ly4n6F",
        "outputId": "17c1373c-f460-49a8-a177-a3a5fcbe3f8f"
      },
      "execution_count": null,
      "outputs": [
        {
          "output_type": "error",
          "ename": "TypeError",
          "evalue": "unsupported operand type(s) for +: 'int' and 'ellipsis'",
          "traceback": [
            "\u001b[0;31m---------------------------------------------------------------------------\u001b[0m",
            "\u001b[0;31mTypeError\u001b[0m                                 Traceback (most recent call last)",
            "\u001b[0;32m<ipython-input-25-c671d4479385>\u001b[0m in \u001b[0;36m<cell line: 18>\u001b[0;34m()\u001b[0m\n\u001b[1;32m     16\u001b[0m \u001b[0mnum_parents\u001b[0m \u001b[0;34m=\u001b[0m \u001b[0;36m10\u001b[0m\u001b[0;34m\u001b[0m\u001b[0;34m\u001b[0m\u001b[0m\n\u001b[1;32m     17\u001b[0m \u001b[0;31m# Example usage\u001b[0m\u001b[0;34m\u001b[0m\u001b[0;34m\u001b[0m\u001b[0m\n\u001b[0;32m---> 18\u001b[0;31m \u001b[0mselected_parents\u001b[0m \u001b[0;34m=\u001b[0m \u001b[0mselection\u001b[0m\u001b[0;34m(\u001b[0m\u001b[0mpopulation\u001b[0m\u001b[0;34m,\u001b[0m \u001b[0mfitness_scores\u001b[0m\u001b[0;34m,\u001b[0m \u001b[0mnum_parents\u001b[0m\u001b[0;34m)\u001b[0m\u001b[0;34m\u001b[0m\u001b[0;34m\u001b[0m\u001b[0m\n\u001b[0m\u001b[1;32m     19\u001b[0m \u001b[0;34m\u001b[0m\u001b[0m\n\u001b[1;32m     20\u001b[0m \u001b[0;31m# Example usage\u001b[0m\u001b[0;34m\u001b[0m\u001b[0;34m\u001b[0m\u001b[0m\n",
            "\u001b[0;32m<ipython-input-25-c671d4479385>\u001b[0m in \u001b[0;36mselection\u001b[0;34m(population, fitness_scores, num_parents)\u001b[0m\n\u001b[1;32m      1\u001b[0m \u001b[0;32mdef\u001b[0m \u001b[0mselection\u001b[0m\u001b[0;34m(\u001b[0m\u001b[0mpopulation\u001b[0m\u001b[0;34m,\u001b[0m \u001b[0mfitness_scores\u001b[0m\u001b[0;34m,\u001b[0m \u001b[0mnum_parents\u001b[0m\u001b[0;34m)\u001b[0m\u001b[0;34m:\u001b[0m\u001b[0;34m\u001b[0m\u001b[0;34m\u001b[0m\u001b[0m\n\u001b[1;32m      2\u001b[0m     \u001b[0mparents\u001b[0m \u001b[0;34m=\u001b[0m \u001b[0;34m[\u001b[0m\u001b[0;34m]\u001b[0m\u001b[0;34m\u001b[0m\u001b[0;34m\u001b[0m\u001b[0m\n\u001b[0;32m----> 3\u001b[0;31m     \u001b[0mtotal_fitness\u001b[0m \u001b[0;34m=\u001b[0m \u001b[0msum\u001b[0m\u001b[0;34m(\u001b[0m\u001b[0mfitness_scores\u001b[0m\u001b[0;34m)\u001b[0m\u001b[0;34m\u001b[0m\u001b[0;34m\u001b[0m\u001b[0m\n\u001b[0m\u001b[1;32m      4\u001b[0m     \u001b[0mprobabilities\u001b[0m \u001b[0;34m=\u001b[0m \u001b[0;34m[\u001b[0m\u001b[0mscore\u001b[0m \u001b[0;34m/\u001b[0m \u001b[0mtotal_fitness\u001b[0m \u001b[0;32mfor\u001b[0m \u001b[0mscore\u001b[0m \u001b[0;32min\u001b[0m \u001b[0mfitness_scores\u001b[0m\u001b[0;34m]\u001b[0m\u001b[0;34m\u001b[0m\u001b[0;34m\u001b[0m\u001b[0m\n\u001b[1;32m      5\u001b[0m \u001b[0;34m\u001b[0m\u001b[0m\n",
            "\u001b[0;31mTypeError\u001b[0m: unsupported operand type(s) for +: 'int' and 'ellipsis'"
          ]
        }
      ]
    }
  ]
}